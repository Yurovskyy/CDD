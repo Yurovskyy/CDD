{
  "nbformat": 4,
  "nbformat_minor": 0,
  "metadata": {
    "colab": {
      "provenance": [],
      "authorship_tag": "ABX9TyNOjuz3YIJPEZ4NKOjVyWPo",
      "include_colab_link": true
    },
    "kernelspec": {
      "name": "python3",
      "display_name": "Python 3"
    },
    "language_info": {
      "name": "python"
    }
  },
  "cells": [
    {
      "cell_type": "markdown",
      "metadata": {
        "id": "view-in-github",
        "colab_type": "text"
      },
      "source": [
        "<a href=\"https://colab.research.google.com/github/Yurovskyy/CDD/blob/main/TrabalhoGovernanca.ipynb\" target=\"_parent\"><img src=\"https://colab.research.google.com/assets/colab-badge.svg\" alt=\"Open In Colab\"/></a>"
      ]
    },
    {
      "cell_type": "markdown",
      "source": [
        "# 1. Definição do problema\n",
        "\n",
        "## 1.1. Objetivo\n",
        "\n",
        "Devemos ser capazes de clusterizar as empresas e de construir um modelo que clusteriza novas empresas automaticamente. A clusterização é uma criação de conjuntos não definidos pelo usuário, e sim pelo algoritmo de machine learning.\n",
        "\n",
        "> Isso é bom, pois temos alguns modelos aprendidos em Engenharia Financeira como o CAPM e HME. Esse resultado teoricamente deve corroborar com esses modelos.\n",
        "\n",
        "\n",
        "#### 1.1.1. O chat-gpt fala isso sobre clusterização:\n",
        "\n",
        "\n",
        "Clustering, ou clusterização em português, é uma técnica de aprendizado de máquina não supervisionado que envolve a divisão de um conjunto de dados em grupos significativos, chamados de clusters. O objetivo é agrupar itens de dados semelhantes em um mesmo cluster, enquanto itens de dados diferentes são colocados em clusters distintos. A ideia é encontrar estruturas intrínsecas nos dados sem a necessidade de rótulos ou categorias pré-definidas.\n",
        "\n",
        "Existem diferentes algoritmos de clusterização, cada um com suas próprias abordagens e características. Os mais famosos são: K-Means, DBSCAN, Hierarchical Clustering, Gaussian Mixture Models (GMM)\n",
        "\n",
        "## 1.2. Métrica de desempenho\n",
        "\n",
        "Com base no índice de governança, podemos ter uma noção de boas empresas. É esperado que a clusterização agrupe essas boas empresas."
      ],
      "metadata": {
        "id": "nu9XBUu1Deg1"
      }
    },
    {
      "cell_type": "markdown",
      "source": [
        "# 2. Obtenção dos dados\n",
        "\n",
        "Serão extraídos de https://yurovskyy.github.io/sitedeploy/. Vou converter os mesmos para CSV e coloca-lo no github do trabalho atual.\n",
        "\n",
        "Como se trata de um algoritmo de clusterização, não precisamos de um dataset de teste.\n",
        "\n",
        "#### 2.1.1. O chat-gpt fala isso sobre esse tópico:\n",
        "\n",
        "Algoritmos de clusterização não são tipicamente avaliados da mesma maneira que os algoritmos de aprendizado supervisionado, onde há um conjunto de dados de treinamento e um conjunto de dados de teste. Em vez disso, os algoritmos de clusterização geralmente operam apenas no conjunto de dados disponível para identificar padrões e agrupar os dados em clusters.\n",
        "\n",
        "Avaliar a qualidade dos clusters gerados por algoritmos de clusterização é uma tarefa subjetiva e muitas vezes depende do contexto específico do problema e dos objetivos do projeto. Além disso, a avaliação pode envolver métodos como validação interna, validação externa ou até mesmo avaliação visual.\n",
        "\n",
        "No entanto, é possível usar técnicas de validação interna para avaliar a qualidade dos clusters gerados. Por exemplo, métricas como a silhueta (silhouette score) podem ser usadas para avaliar a coesão intra-cluster e a separação inter-cluster dos dados. Essas métricas podem ser calculadas usando apenas o conjunto de dados original sem a necessidade de um conjunto de dados de teste separado.\n",
        "\n",
        "É importante observar que, embora os algoritmos de clusterização não usem explicitamente conjuntos de treinamento e teste, ainda é possível avaliar a estabilidade dos clusters gerados e a capacidade do algoritmo de generalizar para novos dados, dependendo da abordagem adotada para a avaliação.\n",
        "\n",
        "### Ou seja, o que foi dito em métricas (1. Definição do problema)\n",
        "\n",
        "## 2.1. Identificando os dados disponíveis e necessários\n",
        "\n",
        "Como o arquivo origina pesava 100mb, não foi possível formatar o mesmo por meio desse notebook, pois isso exigiria que eu fizesse upload do arquivo no github, mas o github barra arquivos de serem enviados acima de 50mb.\n",
        "\n",
        "Por causa disso, criei um script local que retira as colunas do csv que eu não preciso para esse algoritmo e fiz upload do csv formatado no github.\n",
        "\n",
        "O dataset formatado está no seguinte link: https://github.com/Yurovskyy/CDD/blob/main/dataset_CGVN.csv\n",
        "\n",
        "O script de limpeza local está descrito abaixo:\n",
        "# **NAO EXECUTE ESSE SCRIPT, ELE É UM EXEMPLO!**"
      ],
      "metadata": {
        "id": "Q70-ejqx4ANq"
      }
    },
    {
      "cell_type": "code",
      "source": [
        "# import pandas as pd\n",
        "\n",
        "# Carregar o arquivo CSV\n",
        "df = pd.read_csv('C:\\\\Users\\\\Yuri\\\\Desktop\\\\artigo\\\\backend\\\\novoscript\\\\results\\\\dataset_CGVN.csv',sep=\";\")\n",
        "\n",
        "# Selecionar as colunas necessárias\n",
        "colunas_desejadas = ['Data_Referencia', 'Versao', 'Nome_Empresarial', 'ID_Item', 'Pratica_Adotada']\n",
        "df = df[colunas_desejadas]\n",
        "\n",
        "# Salvar o arquivo CSV modificado\n",
        "df.to_csv('dataset_CGVN.csv', index=False)\n"
      ],
      "metadata": {
        "id": "AUrt1JvtZ7Ed"
      },
      "execution_count": null,
      "outputs": []
    },
    {
      "cell_type": "markdown",
      "source": [
        "# 3. Exploração dos dados\n",
        "\n",
        "Essa seção depende muito do dataset que temos. Se fosse um algoritmo de ML de **Classificação** ou **Regressão**, ela seria mais importante.\n",
        "\n",
        "> Sobre a qualidade dos dados, acredito que posso mudar a variável categória \"parcialmente\" para um valor decimal condizente com o seu impacto. Será necessário uma análise minuciosa para isso. Depois que isso for feito, teremos os **dados perfeitos**.\n",
        "> ### Perfect Data → Perfect Model → Perfect Results\n",
        "\n",
        "No total, o dataset tem 115.723 entradas 😀\n",
        "\n",
        "\n",
        "## 3.1. Dicionário de dados\n",
        "\n",
        "## 3.2. Tipos de cada variável\n",
        "\n",
        "## 3.3. Porcentagem de valores faltantes\n",
        "\n",
        "Como os dados já estão sendo trabalhados a algum tempo (artigo), não existem valores faltantes 😀\n",
        "\n",
        "## 3.4. Distribuição estatística dos dados\n",
        "\n"
      ],
      "metadata": {
        "id": "6nArgRRW5txJ"
      }
    },
    {
      "cell_type": "markdown",
      "source": [
        "# 4. Preparação dos dados\n",
        "\n",
        "Devemos formatar os dados para que os mesmos se adequem ao framework que vamos usar. Nesse caso vamos usar o H20, especificadamente o autoH20 com o **H20KMeansEstimator**\n",
        "\n",
        "https://docs.h2o.ai/h2o/latest-stable/h2o-py/docs/modeling.html#h2okmeansestimator\n",
        "\n",
        "Esse link é a documentação sobre o framework (módulo) H20."
      ],
      "metadata": {
        "id": "1UTNgFaA7bya"
      }
    },
    {
      "cell_type": "markdown",
      "source": [
        "#5. 6. Construção do modelo e avaliação\n",
        "\n",
        "Usaremos um autoML"
      ],
      "metadata": {
        "id": "ul3QR7dqIKHt"
      }
    },
    {
      "cell_type": "code",
      "source": [
        "!pip install h2o\n",
        "import h2o\n",
        "h2o.init()"
      ],
      "metadata": {
        "id": "GyjiMCzqPcZa"
      },
      "execution_count": null,
      "outputs": []
    }
  ]
}