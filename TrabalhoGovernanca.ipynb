{
  "nbformat": 4,
  "nbformat_minor": 0,
  "metadata": {
    "colab": {
      "provenance": [],
      "authorship_tag": "ABX9TyPTm7wGcTIkig4rkTyALslL",
      "include_colab_link": true
    },
    "kernelspec": {
      "name": "python3",
      "display_name": "Python 3"
    },
    "language_info": {
      "name": "python"
    }
  },
  "cells": [
    {
      "cell_type": "markdown",
      "metadata": {
        "id": "view-in-github",
        "colab_type": "text"
      },
      "source": [
        "<a href=\"https://colab.research.google.com/github/Yurovskyy/CDD/blob/main/TrabalhoGovernanca.ipynb\" target=\"_parent\"><img src=\"https://colab.research.google.com/assets/colab-badge.svg\" alt=\"Open In Colab\"/></a>"
      ]
    },
    {
      "cell_type": "markdown",
      "source": [
        "## Checklist\n",
        "\n",
        "1. Definição do Problema\n",
        "2. Obtenção dos Dados\n",
        "3. Exploração dos Dados\n",
        "4. Preparação dos Dados\n",
        "5. Construção do Modelo\n",
        "6. Avaliação"
      ],
      "metadata": {
        "id": "MtGpzyCA23uK"
      }
    },
    {
      "cell_type": "code",
      "execution_count": null,
      "metadata": {
        "id": "V74jvil9rPs2"
      },
      "outputs": [],
      "source": []
    },
    {
      "cell_type": "markdown",
      "source": [
        "# 1. Definição do problema\n",
        "\n",
        "Devemos ser capazes de clusterizar as empresas e de construir um modelo que clusteriza novas empresas automaticamente. A clusterização é uma criação de conjuntos não definidos pelo usuário, e sim pelo algoritmo de machine learning.\n",
        "\n",
        "\n",
        "#### O chat-gpt fala isso sobre clusterização:\n",
        "\n",
        "\n",
        "Clustering, ou clusterização em português, é uma técnica de aprendizado de máquina não supervisionado que envolve a divisão de um conjunto de dados em grupos significativos, chamados de clusters. O objetivo é agrupar itens de dados semelhantes em um mesmo cluster, enquanto itens de dados diferentes são colocados em clusters distintos. A ideia é encontrar estruturas intrínsecas nos dados sem a necessidade de rótulos ou categorias pré-definidas.\n",
        "\n",
        "Existem diferentes algoritmos de clusterização, cada um com suas próprias abordagens e características. Os mais famosos são: K-Means, DBSCAN, Hierarchical Clustering, Gaussian Mixture Models (GMM)\n"
      ],
      "metadata": {
        "id": "nu9XBUu1Deg1"
      }
    },
    {
      "cell_type": "markdown",
      "source": [
        "# 2. Obtenção dos dados\n",
        "\n",
        "Serão extraídos de https://yurovskyy.github.io/sitedeploy/. Vou converter os mesmos para CSV e coloca-lo no github do trabalho atual."
      ],
      "metadata": {
        "id": "Q70-ejqx4ANq"
      }
    }
  ]
}